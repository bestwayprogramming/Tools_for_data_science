{
  "metadata": {
    "language_info": {
      "codemirror_mode": {
        "name": "python",
        "version": 3
      },
      "file_extension": ".py",
      "mimetype": "text/x-python",
      "name": "python",
      "nbconvert_exporter": "python",
      "pygments_lexer": "ipython3",
      "version": "3.8"
    },
    "kernelspec": {
      "name": "python",
      "display_name": "Python (Pyodide)",
      "language": "python"
    }
  },
  "nbformat_minor": 4,
  "nbformat": 4,
  "cells": [
    {
      "cell_type": "markdown",
      "source": "# Data Science Notebook",
      "metadata": {}
    },
    {
      "cell_type": "markdown",
      "source": "## Introduction\n\nWelcome to tools for data science course.\n\n",
      "metadata": {}
    },
    {
      "cell_type": "markdown",
      "source": "## Data Science Languages\n\n- Python\n- R\n- Julia\n- SQL\n",
      "metadata": {}
    },
    {
      "cell_type": "markdown",
      "source": "## Data Science Libraries\n\n- NumPy\n- Pandas\n- Scikit-learn\n- TensorFlow\n- Keras\n- Matplotlib\n- Seaborn\n",
      "metadata": {}
    },
    {
      "cell_type": "markdown",
      "source": "## Data Science Tools\n\n| Category       | Tools                 |\n|----------------|-----------------------|\n| IDEs           | Jupyter Notebook, RStudio, PyCharm |\n| Version Control| Git, GitHub, Bitbucket|\n| Databases      | MySQL, PostgreSQL, MongoDB |\n| Visualization  | Tableau, Plotly, D3.js |\n| Big Data       | Apache Hadoop, Apache Spark |\n",
      "metadata": {
        "jp-MarkdownHeadingCollapsed": true,
        "tags": []
      }
    },
    {
      "cell_type": "markdown",
      "source": "## Arithmetic Expression Examples\n\nWe will work with some arithmetic expressions.\n",
      "metadata": {}
    },
    {
      "cell_type": "code",
      "source": "# Multiplication\nresult_multiply = 4 * 5\nprint(\"Multiplication Result:\", result_multiply)\n\n# Addition\nresult_add = 10 + 2\nprint(\"Addition Result:\", result_add)\n",
      "metadata": {
        "trusted": true
      },
      "execution_count": 4,
      "outputs": [
        {
          "name": "stdout",
          "text": "Multiplication Result: 20\nAddition Result: 12\n",
          "output_type": "stream"
        }
      ]
    },
    {
      "cell_type": "code",
      "source": "minutes = 120\nhours = minutes / 60\nprint(\"Hours:\", hours)\n",
      "metadata": {
        "trusted": true
      },
      "execution_count": 5,
      "outputs": [
        {
          "name": "stdout",
          "text": "Hours: 2.0\n",
          "output_type": "stream"
        }
      ]
    },
    {
      "cell_type": "markdown",
      "source": "## Objectives\n\n- Explore data science concepts\n- Learn data science languages and libraries\n- Perform arithmetic calculations\n- Work with data science tools\n- Share notebook through GitHub\n",
      "metadata": {}
    },
    {
      "cell_type": "markdown",
      "source": "## Author\n\nVivek Patel\n",
      "metadata": {}
    },
    {
      "cell_type": "code",
      "source": "",
      "metadata": {},
      "execution_count": null,
      "outputs": []
    }
  ]
}